{
 "cells": [
  {
   "cell_type": "code",
   "execution_count": null,
   "id": "e8250e4e-0938-4c4d-874f-7bde02212862",
   "metadata": {},
   "outputs": [],
   "source": [
    "#| default_exp utils"
   ]
  },
  {
   "cell_type": "markdown",
   "id": "ef67963e-bde4-4842-a24d-8ee8b01a9b2a",
   "metadata": {},
   "source": [
    "# Root utils\n",
    "> utils from root lib"
   ]
  },
  {
   "cell_type": "code",
   "execution_count": null,
   "id": "a3de548c-199f-4aa7-9494-38ece2d3cf11",
   "metadata": {},
   "outputs": [],
   "source": [
    "def foo():\n",
    "    print(\"Root utils foo\")"
   ]
  },
  {
   "cell_type": "code",
   "execution_count": null,
   "id": "81f38c0e-eba0-495b-919c-8add2659a9b5",
   "metadata": {},
   "outputs": [],
   "source": []
  }
 ],
 "metadata": {
  "kernelspec": {
   "display_name": "Python [conda env:py310] *",
   "language": "python",
   "name": "conda-env-py310-py"
  }
 },
 "nbformat": 4,
 "nbformat_minor": 5
}
