{
 "cells": [
  {
   "cell_type": "code",
   "execution_count": null,
   "id": "f03fd498-c1cc-4a72-9f34-559fdce946b7",
   "metadata": {},
   "outputs": [],
   "source": [
    "#| default_exp sub.core"
   ]
  },
  {
   "cell_type": "markdown",
   "id": "5982dcbe-3fed-4f2a-8324-66fb3a45561a",
   "metadata": {},
   "source": [
    "# SUB Core\n",
    "> The core module of the SUB subpackage"
   ]
  },
  {
   "cell_type": "code",
   "execution_count": null,
   "id": "b6d7adf1-d98c-4727-bd89-bc3abce4a737",
   "metadata": {},
   "outputs": [],
   "source": [
    "#| export\n",
    "from nbdev_nested_lib import utils"
   ]
  },
  {
   "cell_type": "code",
   "execution_count": null,
   "id": "16788aa2-a0a7-4c97-83da-3a826251b339",
   "metadata": {},
   "outputs": [],
   "source": [
    "#| export\n",
    "def foo():\n",
    "    print(\"sub core foo\")"
   ]
  },
  {
   "cell_type": "code",
   "execution_count": null,
   "id": "dd396861-61d0-4164-a966-3bb4707fed80",
   "metadata": {},
   "outputs": [
    {
     "name": "stdout",
     "output_type": "stream",
     "text": [
      "sub core foo\n"
     ]
    }
   ],
   "source": [
    "foo()"
   ]
  },
  {
   "cell_type": "code",
   "execution_count": null,
   "id": "87c951a3-4c7e-4959-8ac1-07a3709af175",
   "metadata": {},
   "outputs": [
    {
     "name": "stdout",
     "output_type": "stream",
     "text": [
      "Root utils foo\n"
     ]
    }
   ],
   "source": [
    "utils.foo()"
   ]
  },
  {
   "cell_type": "code",
   "execution_count": null,
   "id": "d4123a0c-32b5-4dbd-b19d-ac1ef95007a6",
   "metadata": {},
   "outputs": [],
   "source": []
  }
 ],
 "metadata": {
  "kernelspec": {
   "display_name": "Python [conda env:py310] *",
   "language": "python",
   "name": "conda-env-py310-py"
  }
 },
 "nbformat": 4,
 "nbformat_minor": 5
}
