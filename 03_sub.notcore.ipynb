{
 "cells": [
  {
   "cell_type": "code",
   "execution_count": null,
   "id": "d8b8427e-d19a-4945-aed6-7d4293c605e9",
   "metadata": {},
   "outputs": [],
   "source": [
    "#| default_exp sub.notcore"
   ]
  },
  {
   "cell_type": "markdown",
   "id": "9b31cea7-1ed4-4f16-b37e-70c5b6c88e56",
   "metadata": {},
   "source": [
    "# Sub Utils\n",
    "> The utils module of the SUB subpackage"
   ]
  },
  {
   "cell_type": "code",
   "execution_count": null,
   "id": "4f73a2d9-d4ab-448f-b56d-e96b4facc9a5",
   "metadata": {},
   "outputs": [
    {
     "ename": "ImportError",
     "evalue": "attempted relative import beyond top-level package",
     "output_type": "error",
     "traceback": [
      "\u001b[0;31m---------------------------------------------------------------------------\u001b[0m",
      "\u001b[0;31mImportError\u001b[0m                               Traceback (most recent call last)",
      "Input \u001b[0;32mIn [17]\u001b[0m, in \u001b[0;36m<cell line: 2>\u001b[0;34m()\u001b[0m\n\u001b[1;32m      1\u001b[0m \u001b[38;5;66;03m#| export\u001b[39;00m\n\u001b[0;32m----> 2\u001b[0m \u001b[38;5;28;01mfrom\u001b[39;00m \u001b[38;5;21;01mnbdev_nested_lib\u001b[39;00m\u001b[38;5;21;01m.\u001b[39;00m\u001b[38;5;21;01msub\u001b[39;00m \u001b[38;5;28;01mimport\u001b[39;00m core\n",
      "File \u001b[0;32m~/Dropbox/src/nbdev-nested-lib/nbdev_nested_lib/sub/core.py:7\u001b[0m, in \u001b[0;36m<module>\u001b[0;34m\u001b[0m\n\u001b[1;32m      4\u001b[0m __all__ \u001b[38;5;241m=\u001b[39m [\u001b[38;5;124m'\u001b[39m\u001b[38;5;124mfoo\u001b[39m\u001b[38;5;124m'\u001b[39m]\n\u001b[1;32m      6\u001b[0m \u001b[38;5;66;03m# %% ../02_sub.core.ipynb 2\u001b[39;00m\n\u001b[0;32m----> 7\u001b[0m \u001b[38;5;28;01mfrom\u001b[39;00m \u001b[38;5;21;01m.\u001b[39;00m\u001b[38;5;21;01m.\u001b[39;00m\u001b[38;5;21;01m.\u001b[39;00m \u001b[38;5;28;01mimport\u001b[39;00m utils\n\u001b[1;32m      9\u001b[0m \u001b[38;5;66;03m# %% ../02_sub.core.ipynb 3\u001b[39;00m\n\u001b[1;32m     10\u001b[0m \u001b[38;5;28;01mdef\u001b[39;00m \u001b[38;5;21mfoo\u001b[39m():\n",
      "\u001b[0;31mImportError\u001b[0m: attempted relative import beyond top-level package"
     ]
    }
   ],
   "source": [
    "#| export\n",
    "from nbdev_nested_lib.sub import core"
   ]
  },
  {
   "cell_type": "code",
   "execution_count": null,
   "id": "dd3748dd-e97e-4ee3-97f2-82abfd179cb5",
   "metadata": {},
   "outputs": [],
   "source": []
  }
 ],
 "metadata": {
  "kernelspec": {
   "display_name": "Python [conda env:py310] *",
   "language": "python",
   "name": "conda-env-py310-py"
  }
 },
 "nbformat": 4,
 "nbformat_minor": 5
}
